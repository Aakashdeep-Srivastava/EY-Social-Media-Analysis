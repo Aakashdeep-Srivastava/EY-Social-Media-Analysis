{
 "cells": [
  {
   "cell_type": "code",
   "execution_count": 5,
   "id": "dbcbea99-029f-494b-9081-cd4bde4d0ea4",
   "metadata": {},
   "outputs": [
    {
     "name": "stdout",
     "output_type": "stream",
     "text": [
      "Mean Squared Error: 0.001740283058960598\n",
      "R-squared Score: 0.7605002115983994\n",
      "\n",
      "Most important features:\n",
      "            feature  importance\n",
      "1   Target_Audience    0.925517\n",
      "4  Engagement_Score    0.018836\n",
      "5  Customer_Segment    0.015240\n",
      "3      Channel_Used    0.014340\n",
      "0     Campaign_Type    0.013573\n",
      "2          Duration    0.012494\n"
     ]
    }
   ],
   "source": [
    "import pandas as pd\n",
    "from sklearn.model_selection import train_test_split\n",
    "from sklearn.ensemble import RandomForestRegressor\n",
    "from sklearn.preprocessing import LabelEncoder\n",
    "from sklearn.metrics import mean_squared_error, r2_score\n",
    "\n",
    "# Load the data\n",
    "df = pd.read_csv('Marketing Campaign.csv')  # Adjust the filename as necessary\n",
    "\n",
    "# Prepare the features and target\n",
    "features = ['Campaign_Type', 'Target_Audience', 'Duration', 'Channel_Used', 'Engagement_Score', 'Customer_Segment']\n",
    "target = 'Conversion_Rate'\n",
    "\n",
    "# Encode categorical variables\n",
    "le = LabelEncoder()\n",
    "for feature in features:\n",
    "    if df[feature].dtype == 'object':\n",
    "        df[feature] = le.fit_transform(df[feature])\n",
    "\n",
    "X = df[features]\n",
    "y = df[target]\n",
    "\n",
    "# Split the data\n",
    "X_train, X_test, y_train, y_test = train_test_split(X, y, test_size=0.2, random_state=42)\n",
    "\n",
    "# Train the model\n",
    "model = RandomForestRegressor(n_estimators=100, random_state=42)\n",
    "model.fit(X_train, y_train)\n",
    "\n",
    "# Make predictions\n",
    "y_pred = model.predict(X_test)\n",
    "\n",
    "# Evaluate the model\n",
    "mse = mean_squared_error(y_test, y_pred)\n",
    "r2 = r2_score(y_test, y_pred)\n",
    "\n",
    "print(f\"Mean Squared Error: {mse}\")\n",
    "print(f\"R-squared Score: {r2}\")\n",
    "\n",
    "# Identify most important features\n",
    "feature_importance = pd.DataFrame({'feature': features, 'importance': model.feature_importances_})\n",
    "feature_importance = feature_importance.sort_values('importance', ascending=False)\n",
    "print(\"\\nMost important features:\")\n",
    "print(feature_importance)\n",
    "\n",
    "# Predict future performance\n",
    "# Assuming 'future_campaigns' is a DataFrame with the same features as X\n",
    "# future_predictions = model.predict(future_campaigns)"
   ]
  },
  {
   "cell_type": "code",
   "execution_count": null,
   "id": "eec444c3-8095-4239-9cec-30eab6518785",
   "metadata": {},
   "outputs": [],
   "source": []
  }
 ],
 "metadata": {
  "kernelspec": {
   "display_name": "Python 3 (ipykernel)",
   "language": "python",
   "name": "python3"
  },
  "language_info": {
   "codemirror_mode": {
    "name": "ipython",
    "version": 3
   },
   "file_extension": ".py",
   "mimetype": "text/x-python",
   "name": "python",
   "nbconvert_exporter": "python",
   "pygments_lexer": "ipython3",
   "version": "3.11.5"
  }
 },
 "nbformat": 4,
 "nbformat_minor": 5
}
